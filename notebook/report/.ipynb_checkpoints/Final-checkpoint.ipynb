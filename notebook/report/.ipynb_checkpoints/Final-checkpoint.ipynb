{
 "cells": [
  {
   "cell_type": "markdown",
   "metadata": {},
   "source": [
    "***Authors:  Jarod Carroll, Daihong Chen, Mihir Bhagat***"
   ]
  },
  {
   "cell_type": "markdown",
   "metadata": {},
   "source": [
    "# Predicting Customer Churn in SyriaTel"
   ]
  },
  {
   "cell_type": "markdown",
   "metadata": {},
   "source": [
    "**Data Source: https://www.kaggle.com/becksddf/churn-in-telecoms-dataset**"
   ]
  },
  {
   "cell_type": "markdown",
   "metadata": {},
   "source": [
    "## Methodology"
   ]
  },
  {
   "cell_type": "markdown",
   "metadata": {},
   "source": [
    "1. Data Acquisition\n",
    "   - Get from Kaggle\n",
    "2. Baseline Model\n",
    "    - Get features so they are usable in a model\n",
    "    - Split data into training and holdout\n",
    "    - Split training data into sub training data and evaluation data\n",
    "    - Train a stacking model\n",
    "    - Evaluate the model\n",
    "3. Impove the model\n",
    "    - Work with the features\n",
    "    - Change estimators in the stacking model\n",
    "    - Tune Hyperparameters\n",
    "4. Final Model\n",
    "    - Train on full training set\n",
    "    - Evaluate on holdout set"
   ]
  },
  {
   "cell_type": "markdown",
   "metadata": {},
   "source": [
    "#### Import Necessary Packages"
   ]
  },
  {
   "cell_type": "code",
   "execution_count": 1,
   "metadata": {},
   "outputs": [],
   "source": [
    "import pickle\n",
    "import numpy as np\n",
    "import pandas as pd\n",
    "from sklearn.linear_model import LogisticRegression\n",
    "from sklearn.neighbors import KNeighborsClassifier\n",
    "from sklearn.ensemble import RandomForestClassifier, StackingClassifier, GradientBoostingClassifier, ExtraTreesClassifier\n",
    "from sklearn.preprocessing import StandardScaler, OneHotEncoder\n",
    "from sklearn.model_selection import cross_val_score, train_test_split\n",
    "from sklearn.metrics import accuracy_score, precision_score, recall_score, f1_score, confusion_matrix\n",
    "\n",
    "import os, sys\n",
    "module_path = os.path.abspath(os.path.join(os.pardir, os.pardir))\n",
    "if module_path not in sys.path:\n",
    "    sys.path.append(module_path)"
   ]
  },
  {
   "cell_type": "code",
   "execution_count": 2,
   "metadata": {},
   "outputs": [],
   "source": [
    "from src.model_maker import *"
   ]
  },
  {
   "cell_type": "markdown",
   "metadata": {},
   "source": [
    "## Data Acquisition"
   ]
  },
  {
   "cell_type": "markdown",
   "metadata": {},
   "source": [
    "The data was downloaded from Kaggle and put into the data folder"
   ]
  },
  {
   "cell_type": "markdown",
   "metadata": {},
   "source": [
    "## Making a Baseline Mode"
   ]
  },
  {
   "cell_type": "markdown",
   "metadata": {},
   "source": [
    "In order to make a baseline model some features where changed. First, collumns for international plan and voicemail plan were converted to integers. Then the State columns was one hot encoded so it could be used in the model. The target value was set aas the churn column"
   ]
  },
  {
   "cell_type": "code",
   "execution_count": 3,
   "metadata": {},
   "outputs": [],
   "source": [
    "df = pd.read_csv('../../data/Customer Churn Data.csv')\n",
    "df['international plan'] = (df['international plan'] == 'yes').astype(int)\n",
    "df['voice mail plan'] = (df['voice mail plan'] == 'yes').astype(int)\n",
    "ohe = OneHotEncoder(sparse = False)\n",
    "ohe_states = pd.DataFrame(ohe.fit_transform(pd.DataFrame(df['state'])), columns = ohe.get_feature_names())\n",
    "df = pd.concat([df, ohe_states], axis = 1)\n",
    "df = df.drop(['state'], axis = 1)\n",
    "\n",
    "y = df['churn']\n",
    "X = df.copy()\n",
    "X.drop(['churn', 'area code','phone number'], axis = 1, inplace = True)"
   ]
  },
  {
   "cell_type": "markdown",
   "metadata": {},
   "source": [
    "The data was then split into a training and holding set then the training data was further broken into a training and testing set. The testing set was used to evaluate if the model improved. The holding set will be used for final model evaluation."
   ]
  },
  {
   "cell_type": "code",
   "execution_count": 7,
   "metadata": {},
   "outputs": [],
   "source": [
    "X_full_train, X_holdout, y_full_train, y_holdout = train_test_split(X, y)\n",
    "X_train, X_test, y_train, y_test = train_test_split(X_full_train, y_full_train)"
   ]
  },
  {
   "cell_type": "markdown",
   "metadata": {},
   "source": [
    "A stacking model was then trained using the training data and using KNN, random forest classifier, and a gradient boosting classifier as estimators. This model was saved into a pickle file and can be loaded from there."
   ]
  },
  {
   "cell_type": "code",
   "execution_count": 8,
   "metadata": {},
   "outputs": [],
   "source": [
    "base_model = read_pickle('../../src/base_model.pickle');"
   ]
  },
  {
   "cell_type": "markdown",
   "metadata": {},
   "source": [
    "To get an idea of how this model is doing we looked at how it performed on the testing set."
   ]
  },
  {
   "cell_type": "code",
   "execution_count": 9,
   "metadata": {},
   "outputs": [
    {
     "data": {
      "text/plain": [
       "{'Accuracy': '0.9616',\n",
       " 'Precision': '0.9879518072289156',\n",
       " 'Recall': '0.780952380952381',\n",
       " 'F1': '0.8723404255319148',\n",
       " 'confusion_matrix': array([[519,   1],\n",
       "        [ 23,  82]])}"
      ]
     },
     "execution_count": 9,
     "metadata": {},
     "output_type": "execute_result"
    }
   ],
   "source": [
    "metrics(y_test, base_model.predict(X_test))"
   ]
  },
  {
   "cell_type": "markdown",
   "metadata": {},
   "source": [
    "## Improving the Model"
   ]
  },
  {
   "cell_type": "markdown",
   "metadata": {},
   "source": [
    "In order to improve the model there are a couple of things that can be done. First we worked with the features a bit. Very few things led to model improvements but there was one important one. Summing up all of the charge columns led to larger model improvements so that was used in the final model. It was found out that the state column did not contribute to the model so that was removed. \\\n",
    "The next step to improving the model was to change the base estimators. Many were tried but we found that getting rid of KNN and using a logistic regression improved our model. \\\n",
    "After this the hyper parameters of the estimators were changed in orderto fine tune our model. The only change in that led to an improved model was changing the solver in the logistic regression to liblinear.\n",
    "After optimizing all of these a final model was made."
   ]
  },
  {
   "cell_type": "markdown",
   "metadata": {},
   "source": [
    "## Final Model"
   ]
  },
  {
   "cell_type": "markdown",
   "metadata": {},
   "source": [
    "Using all the improvements the model was saved to a pickle file to be loaded here. The model was trained on the full training set."
   ]
  },
  {
   "cell_type": "code",
   "execution_count": 10,
   "metadata": {},
   "outputs": [],
   "source": [
    "final_model = read_pickle('../../src/model.pickle')"
   ]
  },
  {
   "cell_type": "markdown",
   "metadata": {},
   "source": [
    "This model was then evaluated using the holdout set."
   ]
  },
  {
   "cell_type": "code",
   "execution_count": 12,
   "metadata": {},
   "outputs": [
    {
     "data": {
      "text/plain": [
       "{'Accuracy': '0.984',\n",
       " 'Precision': '1.0',\n",
       " 'Recall': '0.8881118881118881',\n",
       " 'F1': '0.9407407407407408',\n",
       " 'confusion_matrix': array([[857,   0],\n",
       "        [ 16, 127]])}"
      ]
     },
     "execution_count": 12,
     "metadata": {},
     "output_type": "execute_result"
    }
   ],
   "source": [
    "X_train, X_holdout, y_train, y_holdout = get_train_and_test_data()\n",
    "metrics(y_holdout, final_model.predict(X_holdout))"
   ]
  },
  {
   "cell_type": "markdown",
   "metadata": {},
   "source": [
    "As we see the model does very good on the holdout set. Our model has a high accuracy of 98.4%. The only part the model doesn't do good on is that is sometimes predicts that the customer will not leave when they would."
   ]
  }
 ],
 "metadata": {
  "kernelspec": {
   "display_name": "Python (customerchurn)",
   "language": "python",
   "name": "customerchurn"
  },
  "language_info": {
   "codemirror_mode": {
    "name": "ipython",
    "version": 3
   },
   "file_extension": ".py",
   "mimetype": "text/x-python",
   "name": "python",
   "nbconvert_exporter": "python",
   "pygments_lexer": "ipython3",
   "version": "3.8.1"
  }
 },
 "nbformat": 4,
 "nbformat_minor": 4
}
