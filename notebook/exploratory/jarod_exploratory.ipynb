{
 "cells": [
  {
   "cell_type": "code",
   "execution_count": 1,
   "metadata": {},
   "outputs": [],
   "source": [
    "import numpy as np\n",
    "import pandas as pd\n",
    "from sklearn.linear_model import LogisticRegression\n",
    "from sklearn.neighbors import KNeighborsClassifier\n",
    "from sklearn.ensemble import RandomForestClassifier, StackingClassifier, GradientBoostingClassifier, ExtraTreesClassifier\n",
    "from sklearn.preprocessing import StandardScaler, OneHotEncoder\n",
    "from sklearn.model_selection import cross_val_score, train_test_split\n",
    "from sklearn.metrics import accuracy_score, precision_score, recall_score, f1_score, confusion_matrix"
   ]
  },
  {
   "cell_type": "code",
   "execution_count": 77,
   "metadata": {},
   "outputs": [],
   "source": [
    "df = pd.read_csv('../../data/Customer Churn Data.csv')\n",
    "df['international plan'] = (df['international plan'] == 'yes').astype(int)\n",
    "df['voice mail plan'] = (df['voice mail plan'] == 'yes').astype(int)\n",
    "\n",
    "ohe = OneHotEncoder(sparse = False)\n",
    "ohe_states = pd.DataFrame(ohe.fit_transform(pd.DataFrame(df['state'])), columns = ohe.get_feature_names())\n",
    "df = pd.concat([df, ohe_states], axis = 1)\n",
    "df = df.drop(['state'], axis = 1)\n",
    "\n",
    "df['daily rev'] = (df['total day charge'] + df['total eve charge'] + df['total night charge'] + df['total intl charge']) / df['account length']"
   ]
  },
  {
   "cell_type": "code",
   "execution_count": 78,
   "metadata": {},
   "outputs": [],
   "source": [
    "y = df['churn']\n",
    "X = df.copy()\n",
    "X.drop(['churn', 'area code', 'phone number'], axis = 1, inplace = True)"
   ]
  },
  {
   "cell_type": "code",
   "execution_count": 79,
   "metadata": {},
   "outputs": [
    {
     "name": "stdout",
     "output_type": "stream",
     "text": [
      "Accuracy: 0.9584\n",
      "Precision: 0.9493670886075949\n",
      "Recall: 0.7731958762886598\n",
      "F1: 0.8522727272727272\n"
     ]
    }
   ],
   "source": [
    "def metrics(y_true, y_pred):\n",
    "    print('Accuracy: ' + str(accuracy_score(y_true, y_pred)))\n",
    "    print('Precision: ' + str(precision_score(y_true, y_pred)))\n",
    "    print('Recall: ' + str(recall_score(y_true, y_pred)))\n",
    "    print('F1: ' + str(f1_score(y_true, y_pred)))\n",
    "    \n",
    "def model(X_train, X_test, y_train, y_test):\n",
    "    estimators = [('rf', RandomForestClassifier()),\n",
    "                  ('log', LogisticRegression(solver = 'liblinear')),\n",
    "                  ('grad', GradientBoostingClassifier())]\n",
    "    stack = StackingClassifier(estimators = estimators, final_estimator = LogisticRegression(), cv = 5)\n",
    "    stack.fit(X_train, y_train)\n",
    "    metrics(y_test, stack.predict(X_test))\n",
    "    return stack\n",
    "\n",
    "X_train, X_holdout, y_train, y_holdout = train_test_split(X, y, random_state = 42)\n",
    "X_train1, X_test1, y_train1, y_test1 = train_test_split(X_train, y_train, random_state = 420)\n",
    "\n",
    "ss = StandardScaler()\n",
    "X_train1 = ss.fit_transform(X_train1)\n",
    "X_test1 = ss.transform(X_test1)\n",
    "\n",
    "model = model(X_train1, X_test1, y_train1, y_test1);"
   ]
  },
  {
   "cell_type": "code",
   "execution_count": 7,
   "metadata": {},
   "outputs": [
    {
     "name": "stdout",
     "output_type": "stream",
     "text": [
      "Accuracy: 0.9504\n",
      "Precision: 0.9583333333333334\n",
      "Recall: 0.711340206185567\n",
      "F1: 0.8165680473372781\n",
      "Accuracy: 0.8448\n",
      "Precision: 0.5\n",
      "Recall: 0.17525773195876287\n",
      "F1: 0.2595419847328244\n",
      "Accuracy: 0.9568\n",
      "Precision: 0.9487179487179487\n",
      "Recall: 0.7628865979381443\n",
      "F1: 0.8457142857142856\n"
     ]
    }
   ],
   "source": [
    "for i in model.estimators_:\n",
    "    metrics(y_test1, i.predict(X_test1))"
   ]
  },
  {
   "cell_type": "code",
   "execution_count": 12,
   "metadata": {},
   "outputs": [],
   "source": [
    "features_importances = {}\n",
    "for i in model.estimators_:\n",
    "    try:\n",
    "        features = pd.DataFrame(i.feature_importances_).transpose()\n",
    "        features.columns = X.columns\n",
    "        features_importances[i] = features\n",
    "    except:\n",
    "        features_importances[i] = ':('\n"
   ]
  },
  {
   "cell_type": "code",
   "execution_count": 14,
   "metadata": {},
   "outputs": [
    {
     "data": {
      "text/plain": [
       "total day charge          0.187968\n",
       "international plan        0.171371\n",
       "customer service calls    0.146247\n",
       "total day minutes         0.110133\n",
       "total eve minutes         0.078664\n",
       "total intl calls          0.060388\n",
       "total eve charge          0.057893\n",
       "voice mail plan           0.047395\n",
       "number vmail messages     0.040193\n",
       "total intl charge         0.023149\n",
       "total intl minutes        0.023033\n",
       "total night minutes       0.017999\n",
       "total night charge        0.017479\n",
       "total day calls           0.009325\n",
       "total eve calls           0.004263\n",
       "total night calls         0.002567\n",
       "account length            0.001933\n",
       "Name: 0, dtype: float64"
      ]
     },
     "execution_count": 14,
     "metadata": {},
     "output_type": "execute_result"
    }
   ],
   "source": [
    "features_importances[model.estimators_[2]].transpose()[0].sort_values(ascending = False).head(17)"
   ]
  },
  {
   "cell_type": "code",
   "execution_count": 9,
   "metadata": {},
   "outputs": [
    {
     "data": {
      "text/plain": [
       "[RandomForestClassifier(bootstrap=True, ccp_alpha=0.0, class_weight=None,\n",
       "                        criterion='gini', max_depth=None, max_features='auto',\n",
       "                        max_leaf_nodes=None, max_samples=None,\n",
       "                        min_impurity_decrease=0.0, min_impurity_split=None,\n",
       "                        min_samples_leaf=1, min_samples_split=2,\n",
       "                        min_weight_fraction_leaf=0.0, n_estimators=100,\n",
       "                        n_jobs=None, oob_score=False, random_state=None,\n",
       "                        verbose=0, warm_start=False),\n",
       " LogisticRegression(C=1.0, class_weight=None, dual=False, fit_intercept=True,\n",
       "                    intercept_scaling=1, l1_ratio=None, max_iter=100,\n",
       "                    multi_class='auto', n_jobs=None, penalty='l2',\n",
       "                    random_state=None, solver='liblinear', tol=0.0001, verbose=0,\n",
       "                    warm_start=False),\n",
       " GradientBoostingClassifier(ccp_alpha=0.0, criterion='friedman_mse', init=None,\n",
       "                            learning_rate=0.1, loss='deviance', max_depth=3,\n",
       "                            max_features=None, max_leaf_nodes=None,\n",
       "                            min_impurity_decrease=0.0, min_impurity_split=None,\n",
       "                            min_samples_leaf=1, min_samples_split=2,\n",
       "                            min_weight_fraction_leaf=0.0, n_estimators=100,\n",
       "                            n_iter_no_change=None, presort='deprecated',\n",
       "                            random_state=None, subsample=1.0, tol=0.0001,\n",
       "                            validation_fraction=0.1, verbose=0,\n",
       "                            warm_start=False)]"
      ]
     },
     "execution_count": 9,
     "metadata": {},
     "output_type": "execute_result"
    }
   ],
   "source": [
    "model.estimators_"
   ]
  },
  {
   "cell_type": "code",
   "execution_count": null,
   "metadata": {},
   "outputs": [],
   "source": []
  }
 ],
 "metadata": {
  "kernelspec": {
   "display_name": "Python (customerchurn)",
   "language": "python",
   "name": "customerchurn"
  },
  "language_info": {
   "codemirror_mode": {
    "name": "ipython",
    "version": 3
   },
   "file_extension": ".py",
   "mimetype": "text/x-python",
   "name": "python",
   "nbconvert_exporter": "python",
   "pygments_lexer": "ipython3",
   "version": "3.8.1"
  }
 },
 "nbformat": 4,
 "nbformat_minor": 4
}
