{
 "cells": [
  {
   "cell_type": "code",
<<<<<<< HEAD
   "execution_count": 1,
=======
   "execution_count": 3,
>>>>>>> 2a690d6535135ae83e27c4b15656a6893547b062
   "metadata": {},
   "outputs": [],
   "source": [
    "import pickle\n",
    "import numpy as np\n",
    "import pandas as pd\n",
    "from sklearn.linear_model import LogisticRegression\n",
    "from sklearn.neighbors import KNeighborsClassifier\n",
    "from sklearn.ensemble import RandomForestClassifier, StackingClassifier, GradientBoostingClassifier, ExtraTreesClassifier\n",
    "from sklearn.preprocessing import StandardScaler, OneHotEncoder\n",
    "from sklearn.model_selection import cross_val_score, train_test_split\n",
    "from sklearn.metrics import accuracy_score, precision_score, recall_score, f1_score, confusion_matrix"
   ]
  },
  {
   "cell_type": "code",
<<<<<<< HEAD
   "execution_count": 481,
   "metadata": {},
   "outputs": [],
   "source": [
    "import pickle\n",
    "import numpy as np\n",
    "import pandas as pd\n",
    "from sklearn.linear_model import LogisticRegression\n",
    "from sklearn.neighbors import KNeighborsClassifier\n",
    "from sklearn.ensemble import RandomForestClassifier, StackingClassifier, GradientBoostingClassifier, ExtraTreesClassifier\n",
    "from sklearn.preprocessing import StandardScaler, OneHotEncoder\n",
    "from sklearn.model_selection import cross_val_score, train_test_split\n",
    "from sklearn.metrics import accuracy_score, precision_score, recall_score, f1_score, confusion_matrix\n",
    "\n",
    "\n",
    "\n",
    "file_name = '../../data/Customer Churn Data.csv'\n",
    "\n",
    "def pipeline():\n",
    "    data = get_data()\n",
    "    X_train, X_test, y_train, y_test = split_data(data)\n",
    "    scaler = make_scaler(X_train)\n",
    "    X_train_scaled = scaler.transform(X_train)\n",
    "    X_test_scaled = scaler.transform(X_test)\n",
    "    model = make_model(X_train, y_train)\n",
    "    pickler(model, 'model.pickle')\n",
    "    pickler(ss, 'scaler.pickle')\n",
    "    return metrics(y_test, model.predict(X_test_scaled))\n",
    "    \n",
    "\n",
    "def get_data():\n",
    "    df = pd.read_csv(file_name)\n",
    "    \n",
    "    df['international plan'] = (df['international plan'] == 'yes').astype(int)\n",
    "    df['voice mail plan'] = (df['voice mail plan'] == 'yes').astype(int)\n",
    "\n",
    "    #ohe = OneHotEncoder(sparse = False)\n",
    "    #ohe_states = pd.DataFrame(ohe.fit_transform(pd.DataFrame(df['state'])), columns = ohe.get_feature_names())\n",
    "    #df = pd.concat([df, ohe_states], axis = 1)\n",
    "    df = df.drop(['state'], axis = 1)\n",
    "\n",
    "    df['total charge'] = df['total day charge'] + df['total eve charge'] + df['total intl charge'] + df['total night charge']\n",
    "    df = df.drop(['total day charge', 'total eve charge', 'total intl charge', 'total night charge'], axis = 1)\n",
    "    \n",
    "    df = df.drop(['area code', 'phone number'], axis = 1)\n",
    "    \n",
    "    return df\n",
    "    \n",
    "    \n",
    "def split_data(data):\n",
    "    y = df['churn']\n",
    "    X = df.copy()\n",
    "    X = X.drop(['churn'], axis = 1)\n",
    "    return train_test_split(X, y, test_size = 0.30, random_state = 42)\n",
    "    \n",
    "\n",
    "\n",
    "def make_scaler(X_train):\n",
    "    ss = StandardScaler()\n",
    "    ss.fit(X_train)\n",
    "    return ss\n",
    "    \n",
    "\n",
    "def make_model(X_train, y_train):\n",
    "    estimators = [('rf', RandomForestClassifier()),\n",
    "                  ('log', LogisticRegression(solver = 'liblinear')),\n",
    "                  ('grad', GradientBoostingClassifier())]\n",
    "    stack = StackingClassifier(estimators = estimators, final_estimator = LogisticRegression(), cv = 5)\n",
    "    stack.fit(X_train, y_train)\n",
    "    return stack    \n",
    "    \n",
    "    \n",
    "    \n",
    "    \n",
    "def pickler(model, file_name):\n",
    "    output_file = open(file_name, 'wb')\n",
    "    pickle.dump(model, output_file)\n",
    "    output_file.close()\n",
    "\n",
    "def read_pickle(file_name):\n",
    "    model_file = open(file_name, \"rb\")\n",
    "    model = pickle.load(model_file)\n",
    "    model_file.close()\n",
    "    return model"
   ]
  },
  {
   "cell_type": "code",
   "execution_count": 256,
=======
   "execution_count": 4,
>>>>>>> 2a690d6535135ae83e27c4b15656a6893547b062
   "metadata": {},
   "outputs": [
    {
     "data": {
      "text/html": [
       "<div>\n",
       "<style scoped>\n",
       "    .dataframe tbody tr th:only-of-type {\n",
       "        vertical-align: middle;\n",
       "    }\n",
       "\n",
       "    .dataframe tbody tr th {\n",
       "        vertical-align: top;\n",
       "    }\n",
       "\n",
       "    .dataframe thead th {\n",
       "        text-align: right;\n",
       "    }\n",
       "</style>\n",
       "<table border=\"1\" class=\"dataframe\">\n",
       "  <thead>\n",
       "    <tr style=\"text-align: right;\">\n",
       "      <th></th>\n",
       "      <th>account length</th>\n",
       "      <th>area code</th>\n",
       "      <th>phone number</th>\n",
       "      <th>international plan</th>\n",
       "      <th>voice mail plan</th>\n",
       "      <th>number vmail messages</th>\n",
       "      <th>total day minutes</th>\n",
       "      <th>total day calls</th>\n",
<<<<<<< HEAD
       "      <th>total eve minutes</th>\n",
       "      <th>total eve calls</th>\n",
       "      <th>total night minutes</th>\n",
       "      <th>total night calls</th>\n",
       "      <th>total intl minutes</th>\n",
       "      <th>total intl calls</th>\n",
       "      <th>customer service calls</th>\n",
       "      <th>churn</th>\n",
       "      <th>total charge</th>\n",
=======
       "      <th>total day charge</th>\n",
       "      <th>total eve minutes</th>\n",
       "      <th>total eve calls</th>\n",
       "      <th>total eve charge</th>\n",
       "      <th>total night minutes</th>\n",
       "      <th>total night calls</th>\n",
       "      <th>total night charge</th>\n",
       "      <th>total intl minutes</th>\n",
       "      <th>total intl calls</th>\n",
       "      <th>total intl charge</th>\n",
       "      <th>customer service calls</th>\n",
       "      <th>churn</th>\n",
>>>>>>> 2a690d6535135ae83e27c4b15656a6893547b062
       "    </tr>\n",
       "  </thead>\n",
       "  <tbody>\n",
       "    <tr>\n",
       "      <th>0</th>\n",
       "      <td>128</td>\n",
       "      <td>415</td>\n",
       "      <td>382-4657</td>\n",
       "      <td>0</td>\n",
       "      <td>1</td>\n",
       "      <td>25</td>\n",
       "      <td>265.1</td>\n",
       "      <td>110</td>\n",
<<<<<<< HEAD
       "      <td>197.4</td>\n",
       "      <td>99</td>\n",
       "      <td>244.7</td>\n",
       "      <td>91</td>\n",
       "      <td>10.0</td>\n",
       "      <td>3</td>\n",
       "      <td>1</td>\n",
       "      <td>False</td>\n",
       "      <td>75.56</td>\n",
=======
       "      <td>45.07</td>\n",
       "      <td>197.4</td>\n",
       "      <td>99</td>\n",
       "      <td>16.78</td>\n",
       "      <td>244.7</td>\n",
       "      <td>91</td>\n",
       "      <td>11.01</td>\n",
       "      <td>10.0</td>\n",
       "      <td>3</td>\n",
       "      <td>2.70</td>\n",
       "      <td>1</td>\n",
       "      <td>False</td>\n",
>>>>>>> 2a690d6535135ae83e27c4b15656a6893547b062
       "    </tr>\n",
       "    <tr>\n",
       "      <th>1</th>\n",
       "      <td>107</td>\n",
       "      <td>415</td>\n",
       "      <td>371-7191</td>\n",
       "      <td>0</td>\n",
       "      <td>1</td>\n",
       "      <td>26</td>\n",
       "      <td>161.6</td>\n",
       "      <td>123</td>\n",
<<<<<<< HEAD
       "      <td>195.5</td>\n",
       "      <td>103</td>\n",
       "      <td>254.4</td>\n",
       "      <td>103</td>\n",
       "      <td>13.7</td>\n",
       "      <td>3</td>\n",
       "      <td>1</td>\n",
       "      <td>False</td>\n",
       "      <td>59.24</td>\n",
=======
       "      <td>27.47</td>\n",
       "      <td>195.5</td>\n",
       "      <td>103</td>\n",
       "      <td>16.62</td>\n",
       "      <td>254.4</td>\n",
       "      <td>103</td>\n",
       "      <td>11.45</td>\n",
       "      <td>13.7</td>\n",
       "      <td>3</td>\n",
       "      <td>3.70</td>\n",
       "      <td>1</td>\n",
       "      <td>False</td>\n",
>>>>>>> 2a690d6535135ae83e27c4b15656a6893547b062
       "    </tr>\n",
       "    <tr>\n",
       "      <th>2</th>\n",
       "      <td>137</td>\n",
       "      <td>415</td>\n",
       "      <td>358-1921</td>\n",
       "      <td>0</td>\n",
       "      <td>0</td>\n",
       "      <td>0</td>\n",
       "      <td>243.4</td>\n",
       "      <td>114</td>\n",
<<<<<<< HEAD
       "      <td>121.2</td>\n",
       "      <td>110</td>\n",
       "      <td>162.6</td>\n",
       "      <td>104</td>\n",
       "      <td>12.2</td>\n",
       "      <td>5</td>\n",
       "      <td>0</td>\n",
       "      <td>False</td>\n",
       "      <td>62.29</td>\n",
=======
       "      <td>41.38</td>\n",
       "      <td>121.2</td>\n",
       "      <td>110</td>\n",
       "      <td>10.30</td>\n",
       "      <td>162.6</td>\n",
       "      <td>104</td>\n",
       "      <td>7.32</td>\n",
       "      <td>12.2</td>\n",
       "      <td>5</td>\n",
       "      <td>3.29</td>\n",
       "      <td>0</td>\n",
       "      <td>False</td>\n",
>>>>>>> 2a690d6535135ae83e27c4b15656a6893547b062
       "    </tr>\n",
       "    <tr>\n",
       "      <th>3</th>\n",
       "      <td>84</td>\n",
       "      <td>408</td>\n",
       "      <td>375-9999</td>\n",
       "      <td>1</td>\n",
       "      <td>0</td>\n",
       "      <td>0</td>\n",
       "      <td>299.4</td>\n",
       "      <td>71</td>\n",
<<<<<<< HEAD
       "      <td>61.9</td>\n",
       "      <td>88</td>\n",
       "      <td>196.9</td>\n",
       "      <td>89</td>\n",
       "      <td>6.6</td>\n",
       "      <td>7</td>\n",
       "      <td>2</td>\n",
       "      <td>False</td>\n",
       "      <td>66.80</td>\n",
=======
       "      <td>50.90</td>\n",
       "      <td>61.9</td>\n",
       "      <td>88</td>\n",
       "      <td>5.26</td>\n",
       "      <td>196.9</td>\n",
       "      <td>89</td>\n",
       "      <td>8.86</td>\n",
       "      <td>6.6</td>\n",
       "      <td>7</td>\n",
       "      <td>1.78</td>\n",
       "      <td>2</td>\n",
       "      <td>False</td>\n",
>>>>>>> 2a690d6535135ae83e27c4b15656a6893547b062
       "    </tr>\n",
       "    <tr>\n",
       "      <th>4</th>\n",
       "      <td>75</td>\n",
       "      <td>415</td>\n",
       "      <td>330-6626</td>\n",
       "      <td>1</td>\n",
       "      <td>0</td>\n",
       "      <td>0</td>\n",
       "      <td>166.7</td>\n",
       "      <td>113</td>\n",
<<<<<<< HEAD
       "      <td>148.3</td>\n",
       "      <td>122</td>\n",
       "      <td>186.9</td>\n",
       "      <td>121</td>\n",
       "      <td>10.1</td>\n",
       "      <td>3</td>\n",
       "      <td>3</td>\n",
       "      <td>False</td>\n",
       "      <td>52.09</td>\n",
=======
       "      <td>28.34</td>\n",
       "      <td>148.3</td>\n",
       "      <td>122</td>\n",
       "      <td>12.61</td>\n",
       "      <td>186.9</td>\n",
       "      <td>121</td>\n",
       "      <td>8.41</td>\n",
       "      <td>10.1</td>\n",
       "      <td>3</td>\n",
       "      <td>2.73</td>\n",
       "      <td>3</td>\n",
       "      <td>False</td>\n",
>>>>>>> 2a690d6535135ae83e27c4b15656a6893547b062
       "    </tr>\n",
       "  </tbody>\n",
       "</table>\n",
       "</div>"
      ],
      "text/plain": [
       "   account length  area code phone number  international plan  \\\n",
       "0             128        415     382-4657                   0   \n",
       "1             107        415     371-7191                   0   \n",
       "2             137        415     358-1921                   0   \n",
       "3              84        408     375-9999                   1   \n",
       "4              75        415     330-6626                   1   \n",
       "\n",
       "   voice mail plan  number vmail messages  total day minutes  total day calls  \\\n",
       "0                1                     25              265.1              110   \n",
       "1                1                     26              161.6              123   \n",
       "2                0                      0              243.4              114   \n",
       "3                0                      0              299.4               71   \n",
       "4                0                      0              166.7              113   \n",
       "\n",
<<<<<<< HEAD
       "   total eve minutes  total eve calls  total night minutes  total night calls  \\\n",
       "0              197.4               99                244.7                 91   \n",
       "1              195.5              103                254.4                103   \n",
       "2              121.2              110                162.6                104   \n",
       "3               61.9               88                196.9                 89   \n",
       "4              148.3              122                186.9                121   \n",
       "\n",
       "   total intl minutes  total intl calls  customer service calls  churn  \\\n",
       "0                10.0                 3                       1  False   \n",
       "1                13.7                 3                       1  False   \n",
       "2                12.2                 5                       0  False   \n",
       "3                 6.6                 7                       2  False   \n",
       "4                10.1                 3                       3  False   \n",
       "\n",
       "   total charge  \n",
       "0         75.56  \n",
       "1         59.24  \n",
       "2         62.29  \n",
       "3         66.80  \n",
       "4         52.09  "
      ]
     },
     "execution_count": 256,
=======
       "   total day charge  total eve minutes  total eve calls  total eve charge  \\\n",
       "0             45.07              197.4               99             16.78   \n",
       "1             27.47              195.5              103             16.62   \n",
       "2             41.38              121.2              110             10.30   \n",
       "3             50.90               61.9               88              5.26   \n",
       "4             28.34              148.3              122             12.61   \n",
       "\n",
       "   total night minutes  total night calls  total night charge  \\\n",
       "0                244.7                 91               11.01   \n",
       "1                254.4                103               11.45   \n",
       "2                162.6                104                7.32   \n",
       "3                196.9                 89                8.86   \n",
       "4                186.9                121                8.41   \n",
       "\n",
       "   total intl minutes  total intl calls  total intl charge  \\\n",
       "0                10.0                 3               2.70   \n",
       "1                13.7                 3               3.70   \n",
       "2                12.2                 5               3.29   \n",
       "3                 6.6                 7               1.78   \n",
       "4                10.1                 3               2.73   \n",
       "\n",
       "   customer service calls  churn  \n",
       "0                       1  False  \n",
       "1                       1  False  \n",
       "2                       0  False  \n",
       "3                       2  False  \n",
       "4                       3  False  "
      ]
     },
     "execution_count": 4,
>>>>>>> 2a690d6535135ae83e27c4b15656a6893547b062
     "metadata": {},
     "output_type": "execute_result"
    }
   ],
   "source": [
    "df = pd.read_csv('../../data/Customer Churn Data.csv')\n",
    "df['international plan'] = (df['international plan'] == 'yes').astype(int)\n",
    "df['voice mail plan'] = (df['voice mail plan'] == 'yes').astype(int)\n",
    "\n",
<<<<<<< HEAD
    "#ohe = OneHotEncoder(sparse = False)\n",
    "#ohe_states = pd.DataFrame(ohe.fit_transform(pd.DataFrame(df['state'])), columns = ohe.get_feature_names())\n",
    "#df = pd.concat([df, ohe_states], axis = 1)\n",
    "df = df.drop(['state'], axis = 1)\n",
    "\n",
    "df['total charge'] = df['total day charge'] + df['total eve charge'] + df['total intl charge'] + df['total night charge']\n",
    "df = df.drop(['total day charge', 'total eve charge', 'total intl charge', 'total night charge'], axis = 1)\n",
    "\n",
=======
    "ohe = OneHotEncoder(sparse = False)\n",
    "ohe_states = pd.DataFrame(ohe.fit_transform(pd.DataFrame(df['state'])), columns = ohe.get_feature_names())\n",
    "#df = pd.concat([df, ohe_states], axis = 1)\n",
    "df = df.drop(['state'], axis = 1)\n",
    "\n",
>>>>>>> 2a690d6535135ae83e27c4b15656a6893547b062
    "df.head()"
   ]
  },
  {
   "cell_type": "code",
<<<<<<< HEAD
   "execution_count": 257,
=======
   "execution_count": 39,
>>>>>>> 2a690d6535135ae83e27c4b15656a6893547b062
   "metadata": {},
   "outputs": [],
   "source": [
    "y = df['churn']\n",
    "X = df.copy()\n",
<<<<<<< HEAD
    "X = X.drop(['churn', 'area code', 'phone number'], axis = 1)"
=======
    "X.drop(['churn', 'area code', 'phone number'], axis = 1, inplace = True)"
>>>>>>> 2a690d6535135ae83e27c4b15656a6893547b062
   ]
  },
  {
   "cell_type": "code",
<<<<<<< HEAD
   "execution_count": 474,
   "metadata": {},
   "outputs": [],
   "source": [
    "def metrics(y_true, y_pred):\n",
    "    metric_dictionary = {}\n",
    "    metric_dictionary['Accuracy'] = str(accuracy_score(y_true, y_pred))\n",
    "    metric_dictionary['Precision'] = str(precision_score(y_true, y_pred))\n",
    "    metric_dictionary['Recall'] = str(recall_score(y_true, y_pred))\n",
    "    metric_dictionary['F1'] = str(f1_score(y_true, y_pred))\n",
    "    return metric_dictionary\n",
    "    \n",
    "def make_model(X_train, y_train):\n",
=======
   "execution_count": 40,
   "metadata": {},
   "outputs": [
    {
     "name": "stdout",
     "output_type": "stream",
     "text": [
      "Accuracy: 0.9584\n",
      "Precision: 0.9493670886075949\n",
      "Recall: 0.7731958762886598\n",
      "F1: 0.8522727272727272\n"
     ]
    }
   ],
   "source": [
    "def metrics(y_true, y_pred):\n",
    "    print('Accuracy: ' + str(accuracy_score(y_true, y_pred)))\n",
    "    print('Precision: ' + str(precision_score(y_true, y_pred)))\n",
    "    print('Recall: ' + str(recall_score(y_true, y_pred)))\n",
    "    print('F1: ' + str(f1_score(y_true, y_pred)))\n",
    "    \n",
    "def model(X_train, X_test, y_train, y_test):\n",
>>>>>>> 2a690d6535135ae83e27c4b15656a6893547b062
    "    estimators = [('rf', RandomForestClassifier()),\n",
    "                  ('log', LogisticRegression(solver = 'liblinear')),\n",
    "                  ('grad', GradientBoostingClassifier())]\n",
    "    stack = StackingClassifier(estimators = estimators, final_estimator = LogisticRegression(), cv = 5)\n",
    "    stack.fit(X_train, y_train)\n",
<<<<<<< HEAD
    "    return stack\n",
    "\n",
    "X_train_full, X_holdout, y_train_full, y_holdout = train_test_split(X, y, test_size = 0.30, random_state = 42)\n",
    "X_train, X_test, y_train, y_test = train_test_split(X_train_full, y_train_full, test_size = 0.30)\n",
    "\n",
    "ss = StandardScaler()\n",
    "X_train = ss.fit_transform(X_train)\n",
    "X_test = ss.transform(X_test)"
=======
    "    metrics(y_test, stack.predict(X_test))\n",
    "    return stack\n",
    "\n",
    "X_train, X_holdout, y_train, y_holdout = train_test_split(X, y, random_state = 42)\n",
    "X_train1, X_test1, y_train1, y_test1 = train_test_split(X_train, y_train, random_state = 420)\n",
    "\n",
    "ss = StandardScaler()\n",
    "X_train1 = ss.fit_transform(X_train1)\n",
    "X_test1 = ss.transform(X_test1)\n",
    "\n",
    "model = model(X_train1, X_test1, y_train1, y_test1);"
>>>>>>> 2a690d6535135ae83e27c4b15656a6893547b062
   ]
  },
  {
   "cell_type": "code",
<<<<<<< HEAD
   "execution_count": 475,
   "metadata": {},
   "outputs": [
    {
     "name": "stdout",
     "output_type": "stream",
     "text": [
      "Accuracy: 0.9771428571428571\n",
      "Precision: 0.9880952380952381\n",
      "Recall: 0.8469387755102041\n",
      "F1: 0.9120879120879121\n"
     ]
    },
    {
     "data": {
      "text/plain": [
       "array([[601,   1],\n",
       "       [ 15,  83]])"
      ]
     },
     "execution_count": 475,
=======
   "execution_count": 41,
   "metadata": {},
   "outputs": [
    {
     "data": {
      "text/plain": [
       "array([[524,   4],\n",
       "       [ 22,  75]])"
      ]
     },
     "execution_count": 41,
>>>>>>> 2a690d6535135ae83e27c4b15656a6893547b062
     "metadata": {},
     "output_type": "execute_result"
    }
   ],
   "source": [
<<<<<<< HEAD
    "model = make_model(X_train1, X_test1, y_train1, y_test1)\n",
    "y_hat_test = model.predict(X_test1)\n",
    "metrics(y_test1, y_hat_test)\n",
    "confusion_matrix(y_test1, y_hat_test)"
=======
    "confusion_matrix(y_test1, model.predict(X_test1))"
>>>>>>> 2a690d6535135ae83e27c4b15656a6893547b062
   ]
  },
  {
   "cell_type": "code",
<<<<<<< HEAD
   "execution_count": 476,
=======
   "execution_count": 14,
>>>>>>> 2a690d6535135ae83e27c4b15656a6893547b062
   "metadata": {},
   "outputs": [
    {
     "name": "stdout",
     "output_type": "stream",
     "text": [
<<<<<<< HEAD
      "Accuracy: 0.9742857142857143\n",
      "Precision: 1.0\n",
      "Recall: 0.8163265306122449\n",
      "F1: 0.898876404494382\n",
      "Accuracy: 0.8557142857142858\n",
      "Precision: 0.46938775510204084\n",
      "Recall: 0.23469387755102042\n",
      "F1: 0.3129251700680272\n",
      "Accuracy: 0.9742857142857143\n",
      "Precision: 0.9878048780487805\n",
      "Recall: 0.826530612244898\n",
      "F1: 0.9\n"
=======
      "Accuracy: 0.9152\n",
      "Precision: 1.0\n",
      "Recall: 0.4536082474226804\n",
      "F1: 0.624113475177305\n",
      "Accuracy: 0.848\n",
      "Precision: 0.525\n",
      "Recall: 0.21649484536082475\n",
      "F1: 0.30656934306569344\n",
      "Accuracy: 0.9504\n",
      "Precision: 0.9342105263157895\n",
      "Recall: 0.7319587628865979\n",
      "F1: 0.8208092485549132\n"
>>>>>>> 2a690d6535135ae83e27c4b15656a6893547b062
     ]
    }
   ],
   "source": [
    "for i in model.estimators_:\n",
    "    metrics(y_test1, i.predict(X_test1))"
   ]
  },
  {
   "cell_type": "code",
<<<<<<< HEAD
   "execution_count": null,
   "metadata": {},
   "outputs": [],
   "source": []
  },
  {
   "cell_type": "code",
   "execution_count": null,
   "metadata": {},
   "outputs": [],
   "source": []
  },
  {
   "cell_type": "code",
   "execution_count": 466,
   "metadata": {},
   "outputs": [],
   "source": [
    "def pickler(model, file_name):\n",
    "    output_file = open(file_name, 'wb')\n",
    "    pickle.dump(model, output_file)\n",
    "    output_file.close()\n",
    "\n",
    "def read_pickle(file_name):\n",
    "    model_file = open(file_name, \"rb\")\n",
=======
   "execution_count": 49,
   "metadata": {},
   "outputs": [],
   "source": [
    "'''\n",
    "features_importances = {}\n",
    "for i in model.estimators_:\n",
    "    try:\n",
    "        features = pd.DataFrame(i.feature_importances_).transpose()\n",
    "        features.columns = X.columns\n",
    "        features_importances[i] = features\n",
    "    except:\n",
    "        features_importances[i] = ':('\n",
    "''';"
   ]
  },
  {
   "cell_type": "code",
   "execution_count": 43,
   "metadata": {},
   "outputs": [],
   "source": [
    "def pickler(model):\n",
    "    output_file = open('model.pickle', 'wb')\n",
    "    pickle.dump(model, output_file)\n",
    "    output_file.close()\n",
    "\n",
    "def read_pickle(file_name = 'model.pickle'):\n",
    "    model_file = open(file_name, \"rb\") # \"rb\" means \"read as bytes\"\n",
>>>>>>> 2a690d6535135ae83e27c4b15656a6893547b062
    "    model = pickle.load(model_file)\n",
    "    model_file.close()\n",
    "    return model"
   ]
  },
  {
   "cell_type": "code",
<<<<<<< HEAD
   "execution_count": 479,
   "metadata": {},
   "outputs": [],
   "source": [
    "pickler(model, 'model.pickle')\n",
    "pickler(ss, 'scaler.pickle')"
=======
   "execution_count": 45,
   "metadata": {},
   "outputs": [],
   "source": [
    "pickler(model)"
>>>>>>> 2a690d6535135ae83e27c4b15656a6893547b062
   ]
  },
  {
   "cell_type": "code",
<<<<<<< HEAD
   "execution_count": 480,
   "metadata": {},
   "outputs": [],
   "source": [
    "loaded_model = read_pickle('model.pickle')\n",
    "scaler = read_pickle('scaler.pickle')"
=======
   "execution_count": 46,
   "metadata": {},
   "outputs": [],
   "source": [
    "loaded_model = read_pickle()"
>>>>>>> 2a690d6535135ae83e27c4b15656a6893547b062
   ]
  },
  {
   "cell_type": "code",
<<<<<<< HEAD
   "execution_count": 469,
=======
   "execution_count": 47,
>>>>>>> 2a690d6535135ae83e27c4b15656a6893547b062
   "metadata": {},
   "outputs": [
    {
     "name": "stdout",
     "output_type": "stream",
     "text": [
<<<<<<< HEAD
      "Accuracy: 0.9728571428571429\n",
      "Precision: 1.0\n",
      "Recall: 0.8256880733944955\n",
      "F1: 0.9045226130653267\n"
=======
      "Accuracy: 0.9584\n",
      "Precision: 0.9493670886075949\n",
      "Recall: 0.7731958762886598\n",
      "F1: 0.8522727272727272\n"
     ]
    }
   ],
   "source": [
    "model = metrics(y_test1, loaded_model.predict(X_test1));"
   ]
  },
  {
   "cell_type": "code",
   "execution_count": 1,
   "metadata": {},
   "outputs": [
    {
     "ename": "NameError",
     "evalue": "name 'df' is not defined",
     "output_type": "error",
     "traceback": [
      "\u001b[0;31m---------------------------------------------------------------------------\u001b[0m",
      "\u001b[0;31mNameError\u001b[0m                                 Traceback (most recent call last)",
      "\u001b[0;32m<ipython-input-1-00cf07b74dcd>\u001b[0m in \u001b[0;36m<module>\u001b[0;34m\u001b[0m\n\u001b[0;32m----> 1\u001b[0;31m \u001b[0mdf\u001b[0m\u001b[0;34m\u001b[0m\u001b[0;34m\u001b[0m\u001b[0m\n\u001b[0m",
      "\u001b[0;31mNameError\u001b[0m: name 'df' is not defined"
>>>>>>> 2a690d6535135ae83e27c4b15656a6893547b062
     ]
    }
   ],
   "source": [
<<<<<<< HEAD
    "metrics(y_test1, loaded_model.predict(X_test1));"
   ]
=======
    "df"
   ]
  },
  {
   "cell_type": "code",
   "execution_count": null,
   "metadata": {},
   "outputs": [],
   "source": []
>>>>>>> 2a690d6535135ae83e27c4b15656a6893547b062
  }
 ],
 "metadata": {
  "kernelspec": {
   "display_name": "Python (customerchurn)",
   "language": "python",
   "name": "customerchurn"
  },
  "language_info": {
   "codemirror_mode": {
    "name": "ipython",
    "version": 3
   },
   "file_extension": ".py",
   "mimetype": "text/x-python",
   "name": "python",
   "nbconvert_exporter": "python",
   "pygments_lexer": "ipython3",
<<<<<<< HEAD
   "version": "3.8.1"
=======
   "version": "3.8.2"
>>>>>>> 2a690d6535135ae83e27c4b15656a6893547b062
  }
 },
 "nbformat": 4,
 "nbformat_minor": 4
}
