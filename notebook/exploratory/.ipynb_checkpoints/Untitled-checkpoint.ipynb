{
 "cells": [
  {
   "cell_type": "code",
   "execution_count": 25,
   "metadata": {},
   "outputs": [],
   "source": [
    "import pickle\n",
    "import numpy as np\n",
    "import pandas as pd\n",
    "from sklearn.linear_model import LogisticRegression\n",
    "from sklearn.neighbors import KNeighborsClassifier\n",
    "from sklearn.ensemble import RandomForestClassifier, StackingClassifier, GradientBoostingClassifier, ExtraTreesClassifier\n",
    "from sklearn.preprocessing import StandardScaler, OneHotEncoder\n",
    "from sklearn.model_selection import cross_val_score, train_test_split\n",
    "from sklearn.metrics import accuracy_score, precision_score, recall_score, f1_score, confusion_matrix\n",
    "\n",
    "file_name = '../../data/Customer Churn Data.csv'\n",
    "\n",
    "def pipeline(pickle = True):\n",
    "    X_train, X_test, y_train, y_test = get_train_and_test_data()\n",
    "    model = make_model(X_train, y_train)\n",
    "    if pickle:\n",
    "        pickler(model, 'model.pickle')\n",
    "    return model\n",
    "\n",
    "    \n",
    "def get_train_and_test_data():\n",
    "    '''\n",
    "    Returns testing and training data\n",
    "    '''\n",
    "    data = get_data()\n",
    "    return split_data(data)\n",
    "    \n",
    "    \n",
    "def get_data():\n",
    "    '''\n",
    "    Gets data from datafile and does some pruning.\n",
    "    Drops columns that worsen the model and agregates the charges columns (This helps the model)\n",
    "    \n",
    "    Returns\n",
    "    -------\n",
    "    Returns the data frame to be used in making the model\n",
    "    '''\n",
    "    df = pd.read_csv(file_name)\n",
    "    \n",
    "    df['international plan'] = (df['international plan'] == 'yes').astype(int)\n",
    "    df['voice mail plan'] = (df['voice mail plan'] == 'yes').astype(int)\n",
    "\n",
    "    df['total charge'] = df['total day charge'] + df['total eve charge'] + df['total intl charge'] + df['total night charge']\n",
    "    df = df.drop(['total day charge', 'total eve charge', 'total intl charge', 'total night charge'], axis = 1)\n",
    "    \n",
    "    df = df.drop(['area code', 'phone number', 'state'], axis = 1)\n",
    "    return df\n",
    "    \n",
    "    \n",
    "def split_data(data):\n",
    "    '''\n",
    "    Does a train test split on the passed in with churn as the target\n",
    "    \n",
    "    Parameters\n",
    "    ----------\n",
    "    data: churn data to be split\n",
    "    \n",
    "    Returns\n",
    "    -------\n",
    "    Training predictors, test predictor, training target, test target\n",
    "    '''\n",
    "    target = data['churn']\n",
    "    X = data.copy()\n",
    "    X = X.drop(['churn'], axis = 1)\n",
    "    return train_test_split(X, target, test_size = 0.30, random_state = 42)\n",
    "\n",
    "\n",
    "def make_model(X_train, y_train):\n",
    "    '''\n",
    "    fits and returns a stacking model based on the data passed in\n",
    "    '''\n",
    "    estimators = [('rf', RandomForestClassifier()),\n",
    "                  ('log', LogisticRegression(solver = 'liblinear')),\n",
    "                  ('grad', GradientBoostingClassifier())]\n",
    "    stack = StackingClassifier(estimators = estimators, final_estimator = LogisticRegression(), cv = 5)\n",
    "    stack.fit(X_train, y_train)\n",
    "    return stack    \n",
    "    \n",
    "\n",
    "def metrics(y_true, y_pred):\n",
    "    '''\n",
    "    returns some metrics\n",
    "    '''\n",
    "    metric_dictionary = {}\n",
    "    metric_dictionary['Accuracy'] = str(accuracy_score(y_true, y_pred))\n",
    "    metric_dictionary['Precision'] = str(precision_score(y_true, y_pred))\n",
    "    metric_dictionary['Recall'] = str(recall_score(y_true, y_pred))\n",
    "    metric_dictionary['F1'] = str(f1_score(y_true, y_pred))\n",
    "    metric_dictionary['confusion_matrix'] = confusion_matrix(y_true, y_pred)\n",
    "    return metric_dictionary    \n",
    "    \n",
    "    \n",
    "def pickler(model, file_name):\n",
    "    '''\n",
    "    turns a model into a pickle file\n",
    "    '''\n",
    "    output_file = open(file_name, 'wb')\n",
    "    pickle.dump(model, output_file)\n",
    "    output_file.close()\n",
    "\n",
    "    \n",
    "def read_pickle(file_name):\n",
    "    '''\n",
    "    reads a pickle file\n",
    "    '''\n",
    "    model_file = open(file_name, \"rb\")\n",
    "    model = pickle.load(model_file)\n",
    "    model_file.close()\n",
    "    return model"
   ]
  },
  {
   "cell_type": "code",
   "execution_count": 39,
   "metadata": {},
   "outputs": [],
   "source": [
    "model = pipeline(pickle = True)"
   ]
  },
  {
   "cell_type": "code",
   "execution_count": 40,
   "metadata": {},
   "outputs": [],
   "source": [
    "X_train, X_test, y_train, y_test = get_train_and_test_data()"
   ]
  },
  {
   "cell_type": "code",
   "execution_count": 46,
   "metadata": {},
   "outputs": [
    {
     "data": {
      "text/plain": [
       "{'Accuracy': '0.984',\n",
       " 'Precision': '1.0',\n",
       " 'Recall': '0.8881118881118881',\n",
       " 'F1': '0.9407407407407408',\n",
       " 'confusion_matrix': array([[857,   0],\n",
       "        [ 16, 127]])}"
      ]
     },
     "execution_count": 46,
     "metadata": {},
     "output_type": "execute_result"
    }
   ],
   "source": [
    "metrics(y_test, model.predict(X_test))"
   ]
  },
  {
   "cell_type": "code",
   "execution_count": 44,
   "metadata": {},
   "outputs": [
    {
     "data": {
      "text/plain": [
       "array([[0.99157499, 0.00842501],\n",
       "       [0.99491524, 0.00508476],\n",
       "       [0.9785255 , 0.0214745 ],\n",
       "       ...,\n",
       "       [0.99037921, 0.00962079],\n",
       "       [0.99286747, 0.00713253],\n",
       "       [0.99585668, 0.00414332]])"
      ]
     },
     "execution_count": 44,
     "metadata": {},
     "output_type": "execute_result"
    }
   ],
   "source": [
    "model.estimators_[1].predict_proba(scaler.transform(X_test))"
   ]
  },
  {
   "cell_type": "code",
   "execution_count": 45,
   "metadata": {},
   "outputs": [],
   "source": [
    "model = read_pickle('model.pickle')"
   ]
  },
  {
   "cell_type": "code",
   "execution_count": null,
   "metadata": {},
   "outputs": [],
   "source": []
  }
 ],
 "metadata": {
  "kernelspec": {
   "display_name": "Python (customerchurn)",
   "language": "python",
   "name": "customerchurn"
  },
  "language_info": {
   "codemirror_mode": {
    "name": "ipython",
    "version": 3
   },
   "file_extension": ".py",
   "mimetype": "text/x-python",
   "name": "python",
   "nbconvert_exporter": "python",
   "pygments_lexer": "ipython3",
   "version": "3.8.1"
  }
 },
 "nbformat": 4,
 "nbformat_minor": 4
}
